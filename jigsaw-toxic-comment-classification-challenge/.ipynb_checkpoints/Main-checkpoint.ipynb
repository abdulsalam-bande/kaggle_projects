{
 "cells": [
  {
   "cell_type": "markdown",
   "metadata": {},
   "source": [
    "# Toxic Comment Classification Challenge"
   ]
  },
  {
   "cell_type": "markdown",
   "metadata": {},
   "source": [
    "### NOTE: If you just want to run the code on your example, you dont need to train the network, you can just run the cells that start the \"RUN ME FOR TEST\" "
   ]
  },
  {
   "cell_type": "code",
   "execution_count": 1,
   "metadata": {},
   "outputs": [],
   "source": [
    "#RUN ME FOR TEST\n",
    "from sklearn.metrics import roc_auc_score\n",
    "from termcolor import colored\n",
    "import matplotlib.pyplot as plt \n",
    "import torch.optim as optim\n",
    "from torch.nn.utils.rnn import pack_padded_sequence\n",
    "import torch\n",
    "import torch.nn as nn\n",
    "import torch.nn.functional as F\n",
    "%matplotlib inline\n",
    "import numpy as np \n",
    "import pandas as pd \n",
    "import torchtext\n",
    "from torchtext import data\n",
    "import spacy\n",
    "import os\n",
    "import re\n",
    "import csv\n"
   ]
  },
  {
   "cell_type": "markdown",
   "metadata": {},
   "source": [
    "## Data Preparation"
   ]
  },
  {
   "cell_type": "code",
   "execution_count": 2,
   "metadata": {},
   "outputs": [],
   "source": [
    "#RUN ME FOR TEST\n",
    "#getting some stop words\n",
    "data_tokens = spacy.load('en')\n",
    "data_stpwords_list = spacy.lang.en.stop_words.STOP_WORDS\n",
    "data_stpwords_list.update(['wikipedia','article','articles','im','page'])\n",
    "\n",
    "# a tokenizer function\n",
    "def data_tokenizer(x):\n",
    "    x= re.sub(r'[^a-zA-Z\\s]','',x)\n",
    "    x= re.sub(r'[\\n]',' ',x)\n",
    "    return [tokens.text for tokens in data_tokens.tokenizer(x)]\n",
    "\n",
    "\n",
    "#creating torch.data fields for our dataset\n",
    "field_text_data = data.Field(lower=True, tokenize=data_tokenizer,eos_token='EOS',stop_words=data_stpwords_list,include_lengths=True)\n",
    "field_label_data = data.Field(sequential=False, \n",
    "                         use_vocab=False, \n",
    "                         pad_token=None, \n",
    "                            unk_token=None)\n",
    "\n",
    "dataFields = [(\"id\", None),\n",
    "                 (\"comment_text\", field_text_data), (\"toxic\", field_label_data),\n",
    "                 (\"severe_toxic\", field_label_data), (\"threat\", field_label_data),\n",
    "                 (\"obscene\", field_label_data), (\"insult\", field_label_data),\n",
    "                 (\"identity_hate\", field_label_data)]\n",
    "\n",
    "dataset= data.TabularDataset(path='train.csv', \n",
    "                                            format='csv',\n",
    "                                            fields=dataFields, \n",
    "                                            skip_header=True)\n"
   ]
  },
  {
   "cell_type": "code",
   "execution_count": 3,
   "metadata": {
    "scrolled": true
   },
   "outputs": [
    {
     "name": "stderr",
     "output_type": "stream",
     "text": [
      ".vector_cache/wiki.simple.vec: 293MB [01:59, 2.46MB/s]                               \n",
      "  0%|          | 0/111051 [00:00<?, ?it/s]Skipping token b'111051' with 1-dimensional vector [b'300']; likely a header\n",
      "100%|█████████▉| 110964/111051 [00:20<00:00, 5465.45it/s]"
     ]
    }
   ],
   "source": [
    "#RUN ME FOR TEST\n",
    "train,val= dataset.split()\n",
    "field_text_data.build_vocab(train,vectors='fasttext.simple.300d')\n",
    "\n",
    "\n",
    "traindl, valdl = torchtext.data.BucketIterator.splits(datasets=(train, val),\n",
    "                                            batch_sizes=(128,1024),\n",
    "                                            sort_key=lambda x: len(x.comment_text),\n",
    "                                            device=torch.device('cpu:0'),\n",
    "                                            sort_within_batch=True\n",
    "                                                     )\n",
    "\n",
    "vectors= train.fields['comment_text'].vocab.vectors\n"
   ]
  },
  {
   "cell_type": "code",
   "execution_count": 5,
   "metadata": {},
   "outputs": [
    {
     "data": {
      "text/plain": [
       "torch.Size([234034, 300])"
      ]
     },
     "execution_count": 5,
     "metadata": {},
     "output_type": "execute_result"
    }
   ],
   "source": [
    "vectors.shape"
   ]
  },
  {
   "cell_type": "markdown",
   "metadata": {},
   "source": [
    "## Data Generator class"
   ]
  },
  {
   "cell_type": "code",
   "execution_count": 6,
   "metadata": {},
   "outputs": [],
   "source": [
    "class Data_collector:\n",
    "    def __init__(self, dataloader_Object):\n",
    "        self.label_fields= ['toxic','severe_toxic','obscene','threat','insult','identity_hate']\n",
    "        self.text_field= 'comment_text'\n",
    "        self.dataloader = dataloader_Object\n",
    "        \n",
    "    def __len__(self):\n",
    "        return len(self.dataloader)\n",
    "    \n",
    "    def __iter__(self):\n",
    "        for batch_data in self.dataloader:\n",
    "            X = getattr(batch_data, self.text_field)\n",
    "            y = torch.transpose( torch.stack([getattr(batch_data, y) for y in self.label_fields]),0,1)\n",
    "            yield (X,y)\n",
    "            \n",
    "            "
   ]
  },
  {
   "cell_type": "markdown",
   "metadata": {},
   "source": [
    "## Model"
   ]
  },
  {
   "cell_type": "code",
   "execution_count": 7,
   "metadata": {},
   "outputs": [],
   "source": [
    "#RUN ME FOR TEST\n",
    "class AttentionNetwork(nn.Module):\n",
    "    def __init__(self,output_size,n_tokens,pretrained_vectors,bidirectional=True,embedding_size=300,\n",
    "                 n_hiddenUnits=100,dropout =0.3):\n",
    "        super().__init__()\n",
    "        self.hidden_dim = n_hiddenUnits\n",
    "        self.emb_dim =embedding_size\n",
    "        self.output = output_size\n",
    "        self.dropout = nn.Dropout(dropout)\n",
    "        self.embedding = nn.Embedding(n_tokens, embedding_size)\n",
    "        self.embedding.weight.data.copy_(pretrained_vectors)\n",
    "        self.encoder = nn.LSTM(embedding_size,n_hiddenUnits, num_layers=1, bidirectional=True)\n",
    "        self.fc = nn.Linear(n_hiddenUnits, output_size)\n",
    "        \n",
    "    def attention_layer(self, encoder_out, final_hidden):\n",
    "        hidden = final_hidden.squeeze(0)\n",
    "        attention_wights = torch.bmm(encoder_out, hidden.unsqueeze(2)).squeeze(2)\n",
    "        alphas = F.softmax(attention_wights, 1)\n",
    "        new_hidden = torch.bmm(encoder_out.transpose(1,2), alphas.unsqueeze(2)).squeeze(2)\n",
    "        return alphas,new_hidden\n",
    "    \n",
    "    def forward(self, sequence):\n",
    "        embedded_data = self.embedding(sequence)    \n",
    "        input_after_dropout = self.dropout(embedded_data)\n",
    "        output, (encoder_hidden, cell_state) = self.encoder(input_after_dropout)\n",
    "        bidirection_sum_1 = output[:, :, :self.hidden_dim]+ output[:, :, self.hidden_dim:] \n",
    "        bidirection_sum_1 = bidirection_sum_1.permute(1,0,2)\n",
    "        bidirection_sum = (encoder_hidden[-2,:,:]+encoder_hidden[-1,:,:]).unsqueeze(0)\n",
    "        alphas, attn_out = self.attention_layer(bidirection_sum_1, bidirection_sum)\n",
    "        fc_outputs = self.fc(attn_out)\n",
    "        return alphas,fc_outputs"
   ]
  },
  {
   "cell_type": "code",
   "execution_count": 8,
   "metadata": {},
   "outputs": [],
   "source": [
    "#function to calculate the loss of valudation data\n",
    "def calculate_valLoss(validation_data,model,loss_method):\n",
    "    model.eval()\n",
    "    runningLoss=0\n",
    "    valid_batch_it = Data_collector(validation_data)\n",
    "    allPreds= []\n",
    "    allActualPreds= []\n",
    "    with torch.no_grad():\n",
    "        for i,data in enumerate(valid_batch_it):\n",
    "            data = ( (data[0][0],data[0][1]),data[1] )\n",
    "            _,predictions = model(data[0][0]) \n",
    "            loss = loss_method(predictions,data[1].float())\n",
    "            runningLoss+= loss.item()\n",
    "            allPreds.append(predictions.detach().cpu().numpy())\n",
    "            allActualPreds.append(data[1].detach().cpu().numpy())\n",
    "        ROC_l= roc_auc_score(np.vstack(allActualPreds),np.vstack(allPreds))\n",
    "        return runningLoss/len(valid_batch_it),ROC_l"
   ]
  },
  {
   "cell_type": "code",
   "execution_count": 9,
   "metadata": {},
   "outputs": [],
   "source": [
    "# Some hyperparameters\n",
    "epochs= 10\n",
    "learning_rate = 1e-4\n",
    "model= AttentionNetwork(6,len(field_text_data.vocab),vectors)\n",
    "optimizer = optim.Adam(model.parameters(),learning_rate)\n",
    "criterion= torch.nn.BCEWithLogitsLoss()\n",
    "training_loss=[]\n",
    "validation_loss=[]\n",
    "training_roc=[]\n",
    "validation_roc=[]"
   ]
  },
  {
   "cell_type": "code",
   "execution_count": 10,
   "metadata": {
    "scrolled": true
   },
   "outputs": [
    {
     "ename": "KeyboardInterrupt",
     "evalue": "",
     "output_type": "error",
     "traceback": [
      "\u001b[0;31m---------------------------------------------------------------------------\u001b[0m",
      "\u001b[0;31mKeyboardInterrupt\u001b[0m                         Traceback (most recent call last)",
      "\u001b[0;32m<ipython-input-10-a66fbbc62d97>\u001b[0m in \u001b[0;36m<module>\u001b[0;34m\u001b[0m\n\u001b[1;32m     12\u001b[0m         \u001b[0mloss\u001b[0m \u001b[0;34m=\u001b[0m \u001b[0mcriterion\u001b[0m\u001b[0;34m(\u001b[0m\u001b[0mpredictions\u001b[0m\u001b[0;34m,\u001b[0m\u001b[0mbatch_data\u001b[0m\u001b[0;34m[\u001b[0m\u001b[0;36m1\u001b[0m\u001b[0;34m]\u001b[0m\u001b[0;34m.\u001b[0m\u001b[0mfloat\u001b[0m\u001b[0;34m(\u001b[0m\u001b[0;34m)\u001b[0m\u001b[0;34m)\u001b[0m\u001b[0;34m\u001b[0m\u001b[0;34m\u001b[0m\u001b[0m\n\u001b[1;32m     13\u001b[0m         \u001b[0mtraining_averaged_loss\u001b[0m\u001b[0;34m+=\u001b[0m \u001b[0mloss\u001b[0m\u001b[0;34m.\u001b[0m\u001b[0mitem\u001b[0m\u001b[0;34m(\u001b[0m\u001b[0;34m)\u001b[0m\u001b[0;34m\u001b[0m\u001b[0;34m\u001b[0m\u001b[0m\n\u001b[0;32m---> 14\u001b[0;31m         \u001b[0mloss\u001b[0m\u001b[0;34m.\u001b[0m\u001b[0mbackward\u001b[0m\u001b[0;34m(\u001b[0m\u001b[0;34m)\u001b[0m\u001b[0;34m\u001b[0m\u001b[0;34m\u001b[0m\u001b[0m\n\u001b[0m\u001b[1;32m     15\u001b[0m         \u001b[0moptimizer\u001b[0m\u001b[0;34m.\u001b[0m\u001b[0mstep\u001b[0m\u001b[0;34m(\u001b[0m\u001b[0;34m)\u001b[0m\u001b[0;34m\u001b[0m\u001b[0;34m\u001b[0m\u001b[0m\n\u001b[1;32m     16\u001b[0m         \u001b[0mall_predictions\u001b[0m\u001b[0;34m.\u001b[0m\u001b[0mappend\u001b[0m\u001b[0;34m(\u001b[0m\u001b[0mpredictions\u001b[0m\u001b[0;34m.\u001b[0m\u001b[0mdetach\u001b[0m\u001b[0;34m(\u001b[0m\u001b[0;34m)\u001b[0m\u001b[0;34m.\u001b[0m\u001b[0mcpu\u001b[0m\u001b[0;34m(\u001b[0m\u001b[0;34m)\u001b[0m\u001b[0;34m.\u001b[0m\u001b[0mnumpy\u001b[0m\u001b[0;34m(\u001b[0m\u001b[0;34m)\u001b[0m\u001b[0;34m)\u001b[0m\u001b[0;34m\u001b[0m\u001b[0;34m\u001b[0m\u001b[0m\n",
      "\u001b[0;32m~/opt/miniconda3/lib/python3.7/site-packages/torch/tensor.py\u001b[0m in \u001b[0;36mbackward\u001b[0;34m(self, gradient, retain_graph, create_graph)\u001b[0m\n\u001b[1;32m    196\u001b[0m                 \u001b[0mproducts\u001b[0m\u001b[0;34m.\u001b[0m \u001b[0mDefaults\u001b[0m \u001b[0mto\u001b[0m\u001b[0;31m \u001b[0m\u001b[0;31m`\u001b[0m\u001b[0;31m`\u001b[0m\u001b[0;32mFalse\u001b[0m\u001b[0;31m`\u001b[0m\u001b[0;31m`\u001b[0m\u001b[0;34m.\u001b[0m\u001b[0;34m\u001b[0m\u001b[0;34m\u001b[0m\u001b[0m\n\u001b[1;32m    197\u001b[0m         \"\"\"\n\u001b[0;32m--> 198\u001b[0;31m         \u001b[0mtorch\u001b[0m\u001b[0;34m.\u001b[0m\u001b[0mautograd\u001b[0m\u001b[0;34m.\u001b[0m\u001b[0mbackward\u001b[0m\u001b[0;34m(\u001b[0m\u001b[0mself\u001b[0m\u001b[0;34m,\u001b[0m \u001b[0mgradient\u001b[0m\u001b[0;34m,\u001b[0m \u001b[0mretain_graph\u001b[0m\u001b[0;34m,\u001b[0m \u001b[0mcreate_graph\u001b[0m\u001b[0;34m)\u001b[0m\u001b[0;34m\u001b[0m\u001b[0;34m\u001b[0m\u001b[0m\n\u001b[0m\u001b[1;32m    199\u001b[0m \u001b[0;34m\u001b[0m\u001b[0m\n\u001b[1;32m    200\u001b[0m     \u001b[0;32mdef\u001b[0m \u001b[0mregister_hook\u001b[0m\u001b[0;34m(\u001b[0m\u001b[0mself\u001b[0m\u001b[0;34m,\u001b[0m \u001b[0mhook\u001b[0m\u001b[0;34m)\u001b[0m\u001b[0;34m:\u001b[0m\u001b[0;34m\u001b[0m\u001b[0;34m\u001b[0m\u001b[0m\n",
      "\u001b[0;32m~/opt/miniconda3/lib/python3.7/site-packages/torch/autograd/__init__.py\u001b[0m in \u001b[0;36mbackward\u001b[0;34m(tensors, grad_tensors, retain_graph, create_graph, grad_variables)\u001b[0m\n\u001b[1;32m     98\u001b[0m     Variable._execution_engine.run_backward(\n\u001b[1;32m     99\u001b[0m         \u001b[0mtensors\u001b[0m\u001b[0;34m,\u001b[0m \u001b[0mgrad_tensors\u001b[0m\u001b[0;34m,\u001b[0m \u001b[0mretain_graph\u001b[0m\u001b[0;34m,\u001b[0m \u001b[0mcreate_graph\u001b[0m\u001b[0;34m,\u001b[0m\u001b[0;34m\u001b[0m\u001b[0;34m\u001b[0m\u001b[0m\n\u001b[0;32m--> 100\u001b[0;31m         allow_unreachable=True)  # allow_unreachable flag\n\u001b[0m\u001b[1;32m    101\u001b[0m \u001b[0;34m\u001b[0m\u001b[0m\n\u001b[1;32m    102\u001b[0m \u001b[0;34m\u001b[0m\u001b[0m\n",
      "\u001b[0;31mKeyboardInterrupt\u001b[0m: "
     ]
    }
   ],
   "source": [
    "#Training loop\n",
    "for i in range(epochs):\n",
    "    train_batch_it = Data_collector(traindl)\n",
    "    training_averaged_loss= 0\n",
    "    all_predictions=[]\n",
    "    actual_predictions=[]\n",
    "    for j,batch_data in enumerate(train_batch_it):\n",
    "        batch_data= ( (batch_data[0][0],batch_data[0][1]),batch_data[1] )\n",
    "        model.train()\n",
    "        optimizer.zero_grad()\n",
    "        _,predictions = model(batch_data[0][0])\n",
    "        loss = criterion(predictions,batch_data[1].float())\n",
    "        training_averaged_loss+= loss.item()\n",
    "        loss.backward()\n",
    "        optimizer.step()\n",
    "        all_predictions.append(predictions.detach().cpu().numpy())\n",
    "        actual_predictions.append(batch_data[1].detach().cpu().numpy())\n",
    "    trainRocLoss= roc_auc_score(np.vstack(actual_predictions),np.vstack(all_predictions))\n",
    "    training_averaged_loss= training_averaged_loss/len(train_batch_it)\n",
    "    valLoss,valRocLoss= calculate_valLoss(valdl,model,criterion)\n",
    "    print(f\"Epoch - {i}\")\n",
    "    print(f\"Train Loss - {training_averaged_loss} and Val Loss is {valLoss}\")\n",
    "    print(f\"Train ROC - {trainRocLoss} and Val ROC is {valRocLoss}\")\n",
    "    training_loss.append(training_averaged_loss)\n",
    "    training_roc.append(trainRocLoss)\n",
    "    validation_loss.append(valLoss)\n",
    "    validation_roc.append(valRocLoss)"
   ]
  },
  {
   "cell_type": "code",
   "execution_count": 18,
   "metadata": {
    "scrolled": true
   },
   "outputs": [
    {
     "data": {
      "text/plain": [
       "torch.Size([128])"
      ]
     },
     "execution_count": 18,
     "metadata": {},
     "output_type": "execute_result"
    }
   ],
   "source": [
    "batch_data[0][1].shape"
   ]
  },
  {
   "cell_type": "code",
   "execution_count": 38,
   "metadata": {},
   "outputs": [],
   "source": [
    "#Saving the model to be loaded later\n",
    "torch.save(model, \"Latest_model\")"
   ]
  },
  {
   "cell_type": "code",
   "execution_count": 30,
   "metadata": {},
   "outputs": [
    {
     "data": {
      "text/plain": [
       "<matplotlib.legend.Legend at 0x7f8bad6c1d10>"
      ]
     },
     "execution_count": 30,
     "metadata": {},
     "output_type": "execute_result"
    },
    {
     "data": {
      "image/png": "[encoded data removed]",
      "text/plain": [
       "<Figure size 432x288 with 1 Axes>"
      ]
     },
     "metadata": {
      "needs_background": "light"
     },
     "output_type": "display_data"
    }
   ],
   "source": [
    "#Ploting the loss\n",
    "plt.plot(training_loss)\n",
    "plt.plot(validation_loss)\n",
    "plt.xlabel(\"Epoch\")\n",
    "plt.ylabel(\"Loss\")\n",
    "plt.legend([\"training Loss\", \"Validation Loss\"])\n"
   ]
  },
  {
   "cell_type": "code",
   "execution_count": 31,
   "metadata": {},
   "outputs": [
    {
     "data": {
      "text/plain": [
       "<matplotlib.legend.Legend at 0x7f8bbefcbbd0>"
      ]
     },
     "execution_count": 31,
     "metadata": {},
     "output_type": "execute_result"
    },
    {
     "data": {
      "image/png": "[encoded data removed]",
      "text/plain": [
       "<Figure size 432x288 with 1 Axes>"
      ]
     },
     "metadata": {
      "needs_background": "light"
     },
     "output_type": "display_data"
    }
   ],
   "source": [
    "#Ploting the roc score\n",
    "plt.plot(training_roc)\n",
    "plt.plot(validation_roc)\n",
    "plt.xlabel(\"Epoch\")\n",
    "plt.ylabel(\"Roc Score\")\n",
    "plt.legend([\"training_roc \", \"validation_roc \"])"
   ]
  },
  {
   "cell_type": "code",
   "execution_count": 32,
   "metadata": {},
   "outputs": [
    {
     "name": "stderr",
     "output_type": "stream",
     "text": [
      "/Users/abdulsalamyazid/opt/miniconda3/lib/python3.7/site-packages/torchtext/data/example.py:68: UserWarning: Example class will be retired soon and moved to torchtext.legacy. Please see the most recent release notes for further information.\n",
      "  warnings.warn('Example class will be retired soon and moved to torchtext.legacy. Please see the most recent release notes for further information.', UserWarning)\n",
      "/Users/abdulsalamyazid/opt/miniconda3/lib/python3.7/site-packages/torchtext/data/example.py:78: UserWarning: Example class will be retired soon and moved to torchtext.legacy. Please see the most recent release notes for further information.\n",
      "  warnings.warn('Example class will be retired soon and moved to torchtext.legacy. Please see the most recent release notes for further information.', UserWarning)\n",
      "/Users/abdulsalamyazid/opt/miniconda3/lib/python3.7/site-packages/torchtext/data/iterator.py:48: UserWarning: Iterator class will be retired soon and moved to torchtext.legacy. Please see the most recent release notes for further information.\n",
      "  warnings.warn('{} class will be retired soon and moved to torchtext.legacy. Please see the most recent release notes for further information.'.format(self.__class__.__name__), UserWarning)\n",
      "/Users/abdulsalamyazid/opt/miniconda3/lib/python3.7/site-packages/torchtext/data/batch.py:23: UserWarning: Batch class will be retired soon and moved to torchtext.legacy. Please see the most recent release notes for further information.\n",
      "  warnings.warn('{} class will be retired soon and moved to torchtext.legacy. Please see the most recent release notes for further information.'.format(self.__class__.__name__), UserWarning)\n"
     ]
    }
   ],
   "source": [
    "#Creating a a submition for the test data\n",
    "\n",
    "dataFields = [(\"id\", None),\n",
    "                 (\"comment_text\", field_text_data)\n",
    "             ]\n",
    "\n",
    "dataset_test= data.TabularDataset(path='test.csv', \n",
    "                                            format='csv',\n",
    "                                            fields=dataFields, \n",
    "                                            skip_header=True)\n",
    "\n",
    "\n",
    "\n",
    "test_iterator = torchtext.data.Iterator(dataset_test, batch_size=32, device=torch.device('cpu'),\n",
    "                                     sort=False, sort_within_batch=False, repeat=False,shuffle=False)\n",
    "\n",
    "\n",
    "result_df= pd.read_csv(\"test.csv\")\n",
    "\n",
    "test_data_predictions=[]\n",
    "with torch.no_grad():\n",
    "    model.eval()\n",
    "    for obj in test_iterator:\n",
    "        attention,pred= model(obj.comment_text[0],)\n",
    "        pred= torch.sigmoid(pred)\n",
    "        test_data_predictions.append(pred.cpu().numpy())\n",
    "        \n",
    "        \n",
    "test_data_predictions= np.vstack(test_data_predictions)\n",
    "\n",
    "for i, col in enumerate([\"toxic\", \"severe_toxic\", \"obscene\", \"threat\", \"insult\", \"identity_hate\"]):\n",
    "    result_df[col] = test_data_predictions[:, i]\n",
    "    \n",
    "    \n",
    "result_df.drop(\"comment_text\", axis=1).to_csv(\"submission7.csv\", index=False)"
   ]
  },
  {
   "cell_type": "code",
   "execution_count": 88,
   "metadata": {},
   "outputs": [],
   "source": [
    "#RUN ME FOR TEST\n",
    "# a function to predict a given text \n",
    "def prediction(my_text_predict,loaded_new):\n",
    "    \n",
    "    tokz = field_text_data.tokenize(my_text_predict.lower())\n",
    "    stp = list(field_text_data.stop_words)\n",
    "    after_Remove_stop = [x for x in tokz if x not in stp]\n",
    "\n",
    "    dict_res = {\"id\":1,\"comment_text\":my_text_predict}\n",
    "    with open('result.csv', 'w') as f:\n",
    "        for key in dict_res.keys():\n",
    "            f.write(\"%s,%s\\n\"%(key,dict_res[key]))\n",
    "    dataFields = [(\"id\", None),\n",
    "                 (\"comment_text\", field_text_data)\n",
    "             ]\n",
    "\n",
    "    dataset_test= data.TabularDataset(path='result.csv', \n",
    "                                            format='csv',\n",
    "                                            fields=dataFields, \n",
    "                                            skip_header=True)\n",
    "    test_iterator = torchtext.data.Iterator(dataset_test, batch_size=1, device=torch.device('cpu'),\n",
    "                                     sort=False, sort_within_batch=False, repeat=False,shuffle=False)\n",
    "        \n",
    "    with torch.no_grad():\n",
    "        loaded_new.eval()\n",
    "        for data_iter in test_iterator:\n",
    "            attention,pred= loaded_new(data_iter.comment_text[0])\n",
    "            pred= torch.sigmoid(pred)\n",
    "    att = attention.tolist()[0]\n",
    "    index_max = att.index(max(att))\n",
    "    max_word = after_Remove_stop[index_max]\n",
    "    pred_list = pred.tolist()[0]\n",
    "    greter_than_threshoold = [pred_list.index(i) for i in pred_list if i >=0.5]\n",
    "    y_dict ={0: \"toxic\", 1:\"severe_toxic\", 2:\"obscene\", 3:\"threat\", 4:\"insult\", 5:\"identity_hate\"}\n",
    "    labels = [y_dict[i] for i in greter_than_threshoold]\n",
    "    return max_word,labels,attention,after_Remove_stop,tokz"
   ]
  },
  {
   "cell_type": "markdown",
   "metadata": {},
   "source": [
    "##  Input your sentence below, try longer sentences\n",
    " - There was not time to associate attention values with the labels, so the result you see is highlighting just the words with most attention. \n",
    " - Also I am just highlighting at most 3 words because based on my experiment, when a word gets a high attention, it is usually very high like 0.9 and the rest of the words get a very small attention even if they are important for the detection."
   ]
  },
  {
   "cell_type": "code",
   "execution_count": 89,
   "metadata": {},
   "outputs": [],
   "source": [
    "##RUN ME FOR TEST\n",
    "#Input you text here to predict\n",
    "my_text_predict = \"I am a good boy I love hate asshole bitch\""
   ]
  },
  {
   "cell_type": "code",
   "execution_count": 90,
   "metadata": {},
   "outputs": [
    {
     "name": "stdout",
     "output_type": "stream",
     "text": [
      "The word that got the most attention:  asshole\n",
      "Labels:  ['toxic', 'threat', 'insult']\n",
      "\u001b[32mgood\u001b[0m \u001b[32mboy\u001b[0m \u001b[32mlove\u001b[0m \u001b[31mhate\u001b[0m \u001b[31masshole\u001b[0m \u001b[31mbitch\u001b[0m "
     ]
    }
   ],
   "source": [
    "#RUN ME FOR TEST\n",
    "#outputing the result\n",
    "loaded_new =  AttentionNetwork(6,len(field_text_data.vocab),vectors)\n",
    "loaded_new = torch.load(\"Latest_model\")\n",
    "max_word,labels,att,after_Remove_stop,tokz  = prediction(my_text_predict,loaded_new)\n",
    "most_attension_words = []\n",
    "index_list = []\n",
    "if(len(labels)>0): # If We detect any categories, lets vitualize the attention\n",
    "    attension_values, attension_indices = torch.topk(att,k=3)\n",
    "    index_list = attension_indices.tolist()[0]\n",
    "    most_attension_words = [after_Remove_stop[i] for i in index_list ]\n",
    "#load the model\n",
    "\n",
    "print(\"The word that got the most attention: \",max_word)\n",
    "print(\"Labels: \",labels)\n",
    "for i,j in enumerate(after_Remove_stop):\n",
    "    if(i in index_list ):\n",
    "        print(colored(j,\"red\"),end =\" \")\n",
    "    else:\n",
    "        print(colored(j,\"green\"),end =\" \")"
   ]
  },
  {
   "cell_type": "code",
   "execution_count": null,
   "metadata": {},
   "outputs": [],
   "source": []
  }
 ],
 "metadata": {
  "kernelspec": {
   "display_name": "Python 3",
   "language": "python",
   "name": "python3"
  },
  "language_info": {
   "codemirror_mode": {
    "name": "ipython",
    "version": 3
   },
   "file_extension": ".py",
   "mimetype": "text/x-python",
   "name": "python",
   "nbconvert_exporter": "python",
   "pygments_lexer": "ipython3",
   "version": "3.7.7"
  },
  "varInspector": {
   "cols": {
    "lenName": 16,
    "lenType": 16,
    "lenVar": 40
   },
   "kernels_config": {
    "python": {
     "delete_cmd_postfix": "",
     "delete_cmd_prefix": "del ",
     "library": "var_list.py",
     "varRefreshCmd": "print(var_dic_list())"
    },
    "r": {
     "delete_cmd_postfix": ") ",
     "delete_cmd_prefix": "rm(",
     "library": "var_list.r",
     "varRefreshCmd": "cat(var_dic_list()) "
    }
   },
   "types_to_exclude": [
    "module",
    "function",
    "builtin_function_or_method",
    "instance",
    "_Feature"
   ],
   "window_display": false
  }
 },
 "nbformat": 4,
 "nbformat_minor": 4
}
