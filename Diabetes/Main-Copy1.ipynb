{
 "cells": [
  {
   "cell_type": "markdown",
   "metadata": {},
   "source": [
    "## This notebook trains a Simple Neural Network to predict if a patient has Diabetes or not"
   ]
  },
  {
   "cell_type": "code",
   "execution_count": 1,
   "metadata": {},
   "outputs": [],
   "source": [
    "#Import the Libraries\n",
    "import torch\n",
    "import torch.nn as nn\n",
    "import torch.optim as optim\n",
    "import pandas as pd\n",
    "import numpy as np\n",
    "import matplotlib.pyplot as plt\n",
    "import torch.nn.functional as F\n",
    "from torch.utils.data import Dataset, DataLoader\n",
    "from sklearn.preprocessing import StandardScaler\n",
    "import pandas as pd\n",
    "import torch\n"
   ]
  },
  {
   "cell_type": "markdown",
   "metadata": {},
   "source": [
    "## Read the Data and Convert it to Numpy"
   ]
  },
  {
   "cell_type": "code",
   "execution_count": 3,
   "metadata": {},
   "outputs": [],
   "source": [
    "#Just a comment added\n",
    "diabetes_data = pd.read_csv(\"diabetes.csv\")\n",
    "diabetes_data.head()\n",
    "sc_X = StandardScaler()\n",
    "X =  pd.DataFrame(sc_X.fit_transform(diabetes_data.drop([\"Outcome\"],axis = 1),),\n",
    "        columns=['Pregnancies', 'Glucose', 'BloodPressure', 'SkinThickness', 'Insulin',\n",
    "       'BMI', 'DiabetesPedigreeFunction', 'Age'])\n",
    "\n",
    "\n",
    "X = X.to_numpy()\n",
    "Y = diabetes_data[\"Outcome\"]\n",
    "Y = Y.to_numpy()\n",
    "Y = np.array([Y])\n",
    "Y = Y.reshape((768,1))\n"
   ]
  },
  {
   "cell_type": "markdown",
   "metadata": {},
   "source": [
    "## Prepare a Pytorch DataLoader "
   ]
  },
  {
   "cell_type": "code",
   "execution_count": 4,
   "metadata": {},
   "outputs": [],
   "source": [
    "\n",
    "class  Training_DataSet(Dataset):\n",
    "    def __init__(self,x,y,root_dir,transform):\n",
    "        self.x = x\n",
    "        self.y = y\n",
    "        self.root_dir = root_dir\n",
    "        self.transform = transform\n",
    "        \n",
    "    def __len__(self):\n",
    "        return len(self.y)\n",
    "    \n",
    "    def __getitem__(self,idx):\n",
    "        features = self.x[idx]  \n",
    "        target = self.y[idx]\n",
    "        \n",
    "        sample = {\"features\":features,\"target\":target}\n",
    "        \n",
    "        if self.transform:\n",
    "            sample = self.transform(sample)\n",
    "            \n",
    "        return sample\n",
    "    \n",
    "\n",
    "# To tensor class\n",
    "class to_tensor_training(object):\n",
    "    def __call__(self,sample):\n",
    "        features , target = sample['features'],sample['target']\n",
    "        features = np.array([features])\n",
    "        features = features.astype('float32')\n",
    "        features = torch.from_numpy(features)\n",
    "        features = features.float()\n",
    "        feeatues = features.squeeze(0)\n",
    "        target = np.array([target])\n",
    "        target = torch.from_numpy(target)\n",
    "        target = target.long()\n",
    "        \n",
    "        return {\"features\":features,\"target\":target}"
   ]
  },
  {
   "cell_type": "code",
   "execution_count": 5,
   "metadata": {},
   "outputs": [],
   "source": [
    "transformed_dataset = Training_DataSet(x=X,\n",
    "                                       y=Y,\n",
    "                                       root_dir=\"/Diabetes\",\n",
    "                                       transform = to_tensor_training())"
   ]
  },
  {
   "cell_type": "code",
   "execution_count": 6,
   "metadata": {},
   "outputs": [
    {
     "name": "stdout",
     "output_type": "stream",
     "text": [
      "0 torch.Size([1, 8]) torch.Size([1, 1])\n",
      "1 torch.Size([1, 8]) torch.Size([1, 1])\n",
      "2 torch.Size([1, 8]) torch.Size([1, 1])\n",
      "3 torch.Size([1, 8]) torch.Size([1, 1])\n"
     ]
    }
   ],
   "source": [
    "#Print some Data\n",
    "for i in range(len(transformed_dataset)):\n",
    "    sample = transformed_dataset[i]\n",
    "\n",
    "    print(i, sample['features'].shape,sample['target'].shape)\n",
    "\n",
    "    if i == 3:\n",
    "        break"
   ]
  },
  {
   "cell_type": "code",
   "execution_count": 7,
   "metadata": {},
   "outputs": [],
   "source": [
    "#Create a simple Neural Network\n",
    "class Net(nn.Module):\n",
    "    def __init__(self):\n",
    "        super(Net,self).__init__()\n",
    "        self.fc1 = nn.Linear(8,128)\n",
    "        self.fc2 = nn.Linear(128,2)\n",
    "        \n",
    "    def forward(self,x):\n",
    "        #drouput_activation1 = nn.Dropout(p=0.3)\n",
    "        x = F.relu(self.fc1(x))\n",
    "        x = self.fc2(x)\n",
    "        return x\n",
    "        "
   ]
  },
  {
   "cell_type": "code",
   "execution_count": 57,
   "metadata": {},
   "outputs": [],
   "source": [
    "net = Net()\n",
    "trainloader = torch.utils.data.DataLoader(transformed_dataset,batch_size=4, shuffle=False,num_workers=2,drop_last=True)\n",
    "\n",
    "criterion = nn.CrossEntropyLoss()\n",
    "optimizer = optim.SGD(net.parameters(), lr=0.001, momentum=0.9)"
   ]
  },
  {
   "cell_type": "markdown",
   "metadata": {},
   "source": [
    "## Train the Network"
   ]
  },
  {
   "cell_type": "code",
   "execution_count": 29,
   "metadata": {},
   "outputs": [
    {
     "name": "stdout",
     "output_type": "stream",
     "text": [
      "Epoch: 1/ 10..  Training Loss: 0.446.. \n",
      "Accuracy  79 %\n",
      "Epoch: 2/ 10..  Training Loss: 0.442.. \n",
      "Accuracy  79 %\n",
      "Epoch: 3/ 10..  Training Loss: 0.440.. \n",
      "Accuracy  79 %\n",
      "Epoch: 4/ 10..  Training Loss: 0.439.. \n",
      "Accuracy  79 %\n",
      "Epoch: 5/ 10..  Training Loss: 0.436.. \n",
      "Accuracy  80 %\n",
      "Epoch: 6/ 10..  Training Loss: 0.433.. \n",
      "Accuracy  79 %\n",
      "Epoch: 7/ 10..  Training Loss: 0.434.. \n",
      "Accuracy  79 %\n",
      "Epoch: 8/ 10..  Training Loss: 0.433.. \n",
      "Accuracy  79 %\n",
      "Epoch: 9/ 10..  Training Loss: 0.431.. \n",
      "Accuracy  80 %\n",
      "Epoch: 10/ 10..  Training Loss: 0.429.. \n",
      "Accuracy  80 %\n",
      "Epoch: 11/ 10..  Training Loss: 0.427.. \n",
      "Accuracy  79 %\n",
      "Finished training\n"
     ]
    }
   ],
   "source": [
    "loss_array = []\n",
    "correct = 0\n",
    "total = 0\n",
    "\n",
    "accuracy_array = []\n",
    "for epoch in range(11):\n",
    "    running_loss = 0\n",
    "    for i , data in enumerate(trainloader,0):\n",
    "        features , target = data['features'],data['target']\n",
    "        target = target.squeeze()\n",
    "        optimizer.zero_grad()\n",
    "        outputs = net(features)\n",
    "        outputs = outputs.squeeze()\n",
    "        _, predictions = torch.max(outputs,1)\n",
    "        total += target.size(0)\n",
    "        correct += (predictions == target).sum().item()\n",
    "        loss = criterion(outputs,target)\n",
    "        loss.backward()\n",
    "        optimizer.step()\n",
    "        running_loss += loss.item()\n",
    "        \n",
    "        \n",
    "    loss_array.append(running_loss / len(trainloader))\n",
    "    \n",
    "    print(\"Epoch: {}/ 10.. \".format(epoch+1),\n",
    "              \"Training Loss: {:.3f}.. \".format(running_loss/len(trainloader)))\n",
    "    print(\"Accuracy  %d %%\" %(100*correct/total))\n",
    "    correct = 0\n",
    "    total = 0\n",
    "print(\"Finished training\")"
   ]
  },
  {
   "cell_type": "code",
   "execution_count": null,
   "metadata": {},
   "outputs": [],
   "source": []
  }
 ],
 "metadata": {
  "kernelspec": {
   "display_name": "Python 3 (ipykernel)",
   "language": "python",
   "name": "python3"
  },
  "language_info": {
   "codemirror_mode": {
    "name": "ipython",
    "version": 3
   },
   "file_extension": ".py",
   "mimetype": "text/x-python",
   "name": "python",
   "nbconvert_exporter": "python",
   "pygments_lexer": "ipython3",
   "version": "3.7.10"
  }
 },
 "nbformat": 4,
 "nbformat_minor": 2
}
